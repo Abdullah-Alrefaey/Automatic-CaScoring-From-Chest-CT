{
 "cells": [
  {
   "cell_type": "code",
   "execution_count": 2,
   "metadata": {
    "pycharm": {
     "name": "#%%\n"
    }
   },
   "outputs": [],
   "source": [
    "# Import Required Packages\n",
    "import numpy as np"
   ]
  },
  {
   "cell_type": "code",
   "execution_count": 3,
   "metadata": {
    "pycharm": {
     "name": "#%%\n"
    }
   },
   "outputs": [],
   "source": [
    "def find_roi_2D(s):\n",
    "    \"\"\"\n",
    "\n",
    "    :param s:\n",
    "    :return:\n",
    "    \"\"\"\n",
    "\n",
    "    # rotate -90\n",
    "    s_rotated = np.rot90(s, k=3)\n",
    "\n",
    "    # flip slice\n",
    "    s_fliped = np.flip(s, axis=0)\n",
    "    s_rotated_fliped = np.flip(s_rotated, axis=0)\n",
    "\n",
    "    # Get up and down coordiates\n",
    "    y1 = np.unravel_index(np.argmax(s, axis=None), s.shape)\n",
    "    y2 = np.unravel_index(np.argmax(s_fliped, axis=None), s.shape)\n",
    "\n",
    "    x1 = np.unravel_index(np.argmax(s_rotated, axis=None), s.shape)\n",
    "    x2 = np.unravel_index(np.argmax(s_rotated_fliped, axis=None), s.shape)\n",
    "\n",
    "    # return x1, x2, y1, y2 of image\n",
    "    return x1[0], s.shape[1]-x2[0], y1[0], s.shape[0]-y2[0]\n",
    "\n",
    "\n",
    "def find_roi(sample):\n",
    "    \"\"\"\n",
    "\n",
    "    :param sample:\n",
    "    :return:\n",
    "    \"\"\"\n",
    "\n",
    "    X1,X2,Y1,Y2,Z1,Z2 = sample.shape[1], 0, sample.shape[0] ,0 , sample.shape[2], 0\n",
    "\n",
    "    for index in range(sample.shape[2]): # around Z (axial)\n",
    "        # Take slice from sample\n",
    "        s = sample[:, :, index]\n",
    "\n",
    "        # find points\n",
    "        x1, x2, y1, y2 = find_roi_2D(s)\n",
    "\n",
    "        # check for min x1,y1 and max x2,y2\n",
    "        X1 = min(x1, X1)\n",
    "        Y1 = min(y1, Y1)\n",
    "        X2 = max(x2, X2)\n",
    "        Y2 = max(y2, Y2)\n",
    "\n",
    "    for index in range(sample.shape[1]): # around X (sagital)\n",
    "        # Take slice from sample\n",
    "        s = sample[:, index, :]\n",
    "\n",
    "        # find points\n",
    "        z1, z2, y1, y2 = find_roi_2D(s)\n",
    "\n",
    "        # check for min z1,y1 and max z2,y2\n",
    "        Z1 = min(z1, Z1)\n",
    "        Y1 = min(y1, Y1)\n",
    "        Z2 = max(z2, Z2)\n",
    "        Y2 = max(y2, Y2)\n",
    "\n",
    "    for index in range(sample.shape[0]): # around Y (coronal)\n",
    "        # Take slice from sample\n",
    "        s = sample[index, :, :]\n",
    "\n",
    "        # find points\n",
    "        x1, x2, z1, z2 = find_roi_2D(s)\n",
    "\n",
    "        # check for min x1,z1 and max x2,z2\n",
    "        X1 = min(x1, X1)\n",
    "        Z1 = min(z1, Z1)\n",
    "        X2 = max(x2, X2)\n",
    "        Z2 = max(z2, Z2)\n",
    "\n",
    "    return X1,X2,Y1,Y2,Z1,Z2\n",
    "\n",
    "\n",
    "def crop_roi(sample, x1, x2, y1, y2, z1, z2):\n",
    "    \"\"\"\n",
    "\n",
    "    :param sample:\n",
    "    :param x1:\n",
    "    :param x2:\n",
    "    :param y1:\n",
    "    :param y2:\n",
    "    :param z1:\n",
    "    :param z2:\n",
    "    :return:\n",
    "    \"\"\"\n",
    "\n",
    "    y = (y2 - y1 + 1) if (y1 != 0) else (y2 - y1)\n",
    "    x = (x2 - x1 + 1) if (x1 != 0) else (x2 - x1)\n",
    "    z = (z2 - z1 + 1) if (z1 != 0) else (z2 - z1)\n",
    "\n",
    "    sample_croped = np.empty((y, x, z, 1))\n",
    "\n",
    "    #for index in range(sample_croped.shape[2]):\n",
    "    #    # Take slice from sample\n",
    "    #    s = sample[:,:, index]\n",
    "#\n",
    "    #    # Crop\n",
    "    #    croped_slice = np.copy(s[y1:y2+1 , x1:x2+1])\n",
    "#\n",
    "    #    sample_croped[:,:, index] = croped_slice\n",
    "    sample_croped = sample[y1:y2+1, x1:x2+1, z1:z2+1].copy()\n",
    "\n",
    "    return sample_croped"
   ]
  },
  {
   "cell_type": "markdown",
   "source": [
    "# Testing\n",
    "\n"
   ],
   "metadata": {
    "collapsed": false
   }
  }
 ],
 "metadata": {
  "kernelspec": {
   "display_name": "Python 3",
   "language": "python",
   "name": "python3"
  },
  "language_info": {
   "codemirror_mode": {
    "name": "ipython",
    "version": 3
   },
   "file_extension": ".py",
   "mimetype": "text/x-python",
   "name": "python",
   "nbconvert_exporter": "python",
   "pygments_lexer": "ipython3",
   "version": "3.7.4"
  }
 },
 "nbformat": 4,
 "nbformat_minor": 1
}